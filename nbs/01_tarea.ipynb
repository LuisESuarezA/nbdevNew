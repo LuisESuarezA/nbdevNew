{
 "cells": [
  {
   "cell_type": "markdown",
   "metadata": {},
   "source": [
    "# Tarea\n",
    "\n",
    "> Objeto Tarea para implementar en un Administrador de Tareas"
   ]
  },
  {
   "cell_type": "code",
   "execution_count": null,
   "metadata": {},
   "outputs": [],
   "source": [
    "#| default_exp tarea"
   ]
  },
  {
   "cell_type": "code",
   "execution_count": null,
   "metadata": {},
   "outputs": [],
   "source": [
    "#| hide\n",
    "from nbdev.showdoc import *\n",
    "from fastcore.test import *\n",
    "from fastcore.basics import *"
   ]
  },
  {
   "cell_type": "code",
   "execution_count": null,
   "metadata": {},
   "outputs": [],
   "source": [
    "#| export\n",
    "class Tarea:\n",
    "    def __init__(self,\n",
    "                 titulo:str, # titulo de la tarea\n",
    "                 fecha_entrega:str, # fecha de entrega formato dd/mm/aaaa\n",
    "                 descripcion:str='', # informacion adicional sobre la tarea\n",
    "                 ) -> None:\n",
    "        self.titulo = titulo\n",
    "        self.fecha_entrega = fecha_entrega\n",
    "        self.descripcion = descripcion\n",
    "        self.completada\n",
    "        self.completado= False\n",
    "\n",
    "    def __str__(self) -> str:\n",
    "        return f\"Tarea: '{self.titulo}. Fecha de entrega: {self.fecha_entrega}. Completada: {self.completada}'\"\n",
    "    __repr__ = __str__"
   ]
  },
  {
   "cell_type": "code",
   "execution_count": null,
   "metadata": {},
   "outputs": [
    {
     "data": {
      "text/markdown": [
       "---\n",
       "\n",
       "### Tarea\n",
       "\n",
       ">      Tarea (titulo:str, fecha_entrega:str, descripcion:str='')\n",
       "\n",
       "Initialize self.  See help(type(self)) for accurate signature.\n",
       "\n",
       "|    | **Type** | **Default** | **Details** |\n",
       "| -- | -------- | ----------- | ----------- |\n",
       "| titulo | str |  | titulo de la tarea |\n",
       "| fecha_entrega | str |  | fecha de entrega formato dd/mm/aaaa |\n",
       "| descripcion | str |  | informacion adicional sobre la tarea |\n",
       "| **Returns** | **None** |  |  |"
      ],
      "text/plain": [
       "---\n",
       "\n",
       "### Tarea\n",
       "\n",
       ">      Tarea (titulo:str, fecha_entrega:str, descripcion:str='')\n",
       "\n",
       "Initialize self.  See help(type(self)) for accurate signature.\n",
       "\n",
       "|    | **Type** | **Default** | **Details** |\n",
       "| -- | -------- | ----------- | ----------- |\n",
       "| titulo | str |  | titulo de la tarea |\n",
       "| fecha_entrega | str |  | fecha de entrega formato dd/mm/aaaa |\n",
       "| descripcion | str |  | informacion adicional sobre la tarea |\n",
       "| **Returns** | **None** |  |  |"
      ]
     },
     "execution_count": null,
     "metadata": {},
     "output_type": "execute_result"
    }
   ],
   "source": [
    "show_doc(Tarea)"
   ]
  },
  {
   "cell_type": "code",
   "execution_count": null,
   "metadata": {},
   "outputs": [],
   "source": [
    "#| hide\n",
    "import nbdev; nbdev.nbdev_export()"
   ]
  }
 ],
 "metadata": {
  "kernelspec": {
   "display_name": "python3",
   "language": "python",
   "name": "python3"
  }
 },
 "nbformat": 4,
 "nbformat_minor": 4
}
